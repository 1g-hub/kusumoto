{
  "nbformat": 4,
  "nbformat_minor": 0,
  "metadata": {
    "colab": {
      "name": "進化型.ipynb",
      "provenance": [],
      "collapsed_sections": [],
      "authorship_tag": "ABX9TyPrYQhZMUdmfgpIEo19mPj5",
      "include_colab_link": true
    },
    "kernelspec": {
      "name": "python3",
      "display_name": "Python 3"
    },
    "language_info": {
      "name": "python"
    }
  },
  "cells": [
    {
      "cell_type": "markdown",
      "metadata": {
        "id": "view-in-github",
        "colab_type": "text"
      },
      "source": [
        "<a href=\"https://colab.research.google.com/github/yuuki-kusumoto/kusumoto/blob/master/%E9%80%B2%E5%8C%96%E5%9E%8B.ipynb\" target=\"_parent\"><img src=\"https://colab.research.google.com/assets/colab-badge.svg\" alt=\"Open In Colab\"/></a>"
      ]
    },
    {
      "cell_type": "code",
      "metadata": {
        "id": "i6O96vTFEEn5",
        "colab": {
          "base_uri": "https://localhost:8080/"
        },
        "outputId": "1cb7a7b6-5d47-4c58-ad40-749e86587762"
      },
      "source": [
        "import sympy as spy\n",
        "\n",
        "theta = spy.Symbol(\"theta\", real = True)\n",
        "\n",
        "ax, ay = 2, 0\n",
        "p1x, p1y, p2x, p2y = 5 * spy.cos(2 * theta), 5 * spy.sin(2 * theta), 10 * spy.cos(theta), 10 * spy.sin(theta)\n",
        "\n",
        "S = spy.simplify((p1x - ax) * (p2y - ay) - (p1y - ay) * (p2x - ax)) / 2\n",
        "\n",
        "S_ = spy.diff(S, theta)\n",
        "theta_ = spy.solve(S_, theta)\n",
        "\n",
        "answer = []\n",
        "\n",
        "for i in theta_:\n",
        "    x = S.subs(theta, i)\n",
        "    answer.append(x)\n",
        "\n",
        "print('面積Sの最大値 =', max(answer))"
      ],
      "execution_count": null,
      "outputs": [
        {
          "output_type": "stream",
          "text": [
            "面積Sの最大値 = -5*(-7 + 2*cos(2*atan(sqrt(15)/3)))*sin(2*atan(sqrt(15)/3))\n"
          ],
          "name": "stdout"
        }
      ]
    },
    {
      "cell_type": "code",
      "metadata": {
        "colab": {
          "base_uri": "https://localhost:8080/"
        },
        "id": "TP-JfJKSAZ3d",
        "outputId": "d58171e6-63e2-4039-8f14-643b25ba8084"
      },
      "source": [
        "def sosu():\n",
        "    a=[]\n",
        "    for i in range(2,100):\n",
        "        f=False\n",
        "        for j in range(2,i//2+1):\n",
        "            if(i%j==0):\n",
        "                f=True\n",
        "                break\n",
        "        if f==False:\n",
        "            a.append(i)\n",
        "    return a\n",
        "        \n",
        "S=sosu()\n",
        "minimam=1000000000000000\n",
        "print(len(S))\n",
        "for i in range(1,2**len(S)):\n",
        "    SA=[]\n",
        "    SB=[]\n",
        "    for j in range(len(S)):\n",
        "        if ((i >> j) & 1):\n",
        "            SB.append(S[j])\n",
        "        else:\n",
        "            SA.append(S[j])\n",
        "    total=abs(sum(SA)-sum(SB))\n",
        "    if(minimam>total):\n",
        "       minimam_SA=[]\n",
        "       minimam_SB=[]\n",
        "       minimam=total\n",
        "       minimam_SA=SA\n",
        "       minimam_SB=SB\n",
        "       if(total==0):\n",
        "           break\n",
        "        \n",
        "print(\"min:\"+str(minimam))\n",
        "print(\"SA:\"+str(minimam_SA))\n",
        "print(\"SB:\"+str(minimam_SB))"
      ],
      "execution_count": null,
      "outputs": [
        {
          "output_type": "stream",
          "text": [
            "25\n",
            "min:0\n",
            "SA:[7, 31, 71, 73, 79, 83, 89, 97]\n",
            "SB:[2, 3, 5, 11, 13, 17, 19, 23, 29, 37, 41, 43, 47, 53, 59, 61, 67]\n"
          ],
          "name": "stdout"
        }
      ]
    },
    {
      "cell_type": "code",
      "metadata": {
        "colab": {
          "base_uri": "https://localhost:8080/"
        },
        "id": "eP8TwtIlgwUQ",
        "outputId": "ae20a232-5e33-4803-f7b8-77aca2ca7e32"
      },
      "source": [
        "import sympy \n",
        "\n",
        "#角速度をwとする。\n",
        "w = sympy.Symbol(\"w\")\n",
        "\n",
        "#Aはx軸上にあるとする。\n",
        "A_x, A_y = 2, 0\n",
        "#P1,P2の座標\n",
        "P1_x, P1_y = 5*sympy.cos(2*w), 5*sympy.sin(2*w)\n",
        "P2_x, P2_y = 10*sympy.cos(w), 10*sympy.sin(w)\n",
        "\n",
        "#求める面積をSとする。3点を原点に平行移動させて面積Sを求める。\n",
        "S = sympy.simplify((1/2)*((P1_x - A_x)*(P2_y - A_y) - (P2_x - A_x)*(P1_y - A_y)))\n",
        "\n",
        "#面積Sをwで微分する。\n",
        "S_diff = sympy.diff(S, w)\n",
        "#S'(w) = 0 として方程式を解く。\n",
        "w_ans = sympy.solve(S_diff,w)\n",
        "\n",
        "#解を順に代入して最大値を求める。\n",
        "max_S = 0\n",
        "for i in w_ans:\n",
        "  if max_S < abs(S.subs(w, i)):\n",
        "    max_S = abs(S.subs(w, i)) \n",
        "\n",
        "print(\"面積Sの最大値は\", max_S)"
      ],
      "execution_count": null,
      "outputs": [
        {
          "output_type": "stream",
          "text": [
            "面積Sの最大値は 36.3092188706945\n"
          ],
          "name": "stdout"
        }
      ]
    },
    {
      "cell_type": "code",
      "metadata": {
        "colab": {
          "base_uri": "https://localhost:8080/"
        },
        "id": "CkFCS95Qgmhw",
        "outputId": "045d68af-ffcd-4bdf-978a-8714e8081325"
      },
      "source": [
        "import sympy as sym\n",
        "\n",
        "#原点Oを2次元座標平面の原点とし、A,P1,P2の座標から面積Sを求める。\n",
        "s=sym.Symbol('s')\n",
        "A_x=2\n",
        "A_y=0\n",
        "P1_x=5*sym.cos(2*s)\n",
        "P1_y=5*sym.sin(2*s)\n",
        "P2_x=10*sym.cos(s)\n",
        "P2_y=10*sym.sin(s)\n",
        "\n",
        "S=sym.simplify((1/2)*((P1_x-A_x)*(P2_y-A_y)-(P2_x-A_x)*(P1_y-A_y)))\n",
        "\n",
        "#微分して極値を求める\n",
        "diff1=sym.diff(S,s)\n",
        "solves=sym.solve(diff1,s)\n",
        "\n",
        "#極値から最大値を求める\n",
        "Max_S=0\n",
        "for solve in solves:\n",
        "    S_=abs(S.subs(s,solve))\n",
        "    if S_>Max_S:\n",
        "        Max_S=S_\n",
        "        \n",
        "print('最大値:',Max_S)"
      ],
      "execution_count": null,
      "outputs": [
        {
          "output_type": "stream",
          "text": [
            "最大値: 36.3092188706945\n"
          ],
          "name": "stdout"
        }
      ]
    },
    {
      "cell_type": "code",
      "metadata": {
        "colab": {
          "base_uri": "https://localhost:8080/"
        },
        "id": "WK2t51xsgQcd",
        "outputId": "0e28f733-3aed-4177-91ef-29c541a35307"
      },
      "source": [
        "import sympy\n",
        "\n",
        "th=sympy.Symbol('th')\n",
        "a1=2\n",
        "a2=0\n",
        "\n",
        "p11=5*sympy.cos(2*th)\n",
        "p12=5*sympy.sin(2*th)\n",
        "p21=10*sympy.cos(th)\n",
        "p22=10*sympy.sin(th)\n",
        "\n",
        "s=sympy.simplify(((p11-a1)*(p22-a2)-(p21-a1)*(p12-a2))/2)\n",
        "\n",
        "diff=sympy.diff(s)\n",
        "diffans=sympy.solve(diff)\n",
        "ans=[]\n",
        "\n",
        "for diffans in diffans:\n",
        "    ans.append(abs(s.subs(th,diffans)))\n",
        "\n",
        "print(sympy.simplify(max(ans)))\n"
      ],
      "execution_count": null,
      "outputs": [
        {
          "output_type": "stream",
          "text": [
            "75*sqrt(15)/8\n"
          ],
          "name": "stdout"
        }
      ]
    },
    {
      "cell_type": "code",
      "metadata": {
        "colab": {
          "base_uri": "https://localhost:8080/"
        },
        "id": "G8d7zbhVecaV",
        "outputId": "4ac82f0d-a17c-4db5-8b54-387df8fd22b8"
      },
      "source": [
        "import sympy\n",
        "from sympy import sin, cos\n",
        "\n",
        "theta = sympy.Symbol('theta', real = True, nonnegative = True)\n",
        "# 二つの円の半径\n",
        "r1 = 5\n",
        "r2 = 10\n",
        "# 点A\n",
        "A_x = -2\n",
        "A_y = 0\n",
        "\n",
        "# 三角形の面積\n",
        "area = ((r2*cos(2*theta)-A_x)*(r1*sin(theta)-A_y)-(r1*cos(theta)-A_x)*(r2*sin(2*theta)-A_y))/2\n",
        "diff_area = sympy.diff(area, theta)\n",
        "\n",
        "eq = sympy.solve(diff_area, theta)\n",
        "\n",
        "area_max = 0 # 三角形の面積の最大値\n",
        "for i in eq:\n",
        "    if(area_max < abs(area.subs(theta,i))):\n",
        "        area_max = area.subs(theta,i)\n",
        "print('S max is {}'.format(area_max.evalf()))"
      ],
      "execution_count": null,
      "outputs": [
        {
          "output_type": "stream",
          "text": [
            "S max is 25.9807621135332\n"
          ],
          "name": "stdout"
        }
      ]
    },
    {
      "cell_type": "code",
      "metadata": {
        "colab": {
          "base_uri": "https://localhost:8080/"
        },
        "id": "UeyBml7pf5LF",
        "outputId": "42fcdabc-1ede-4af7-ca03-dedbb32164a3"
      },
      "source": [
        "from sympy import *\n",
        "import numpy as np\n",
        "\n",
        "theta = Symbol('theta', real = True)\n",
        "p1_x = 5 * cos(2 * theta)\n",
        "p1_y = 5 * sin(2 * theta)\n",
        "p2_x = 10 * cos(theta)\n",
        "p2_y = 10 * sin(theta)\n",
        "a_x = 2\n",
        "a_y = 0\n",
        "\n",
        "tmp = 0.5 * ((p1_x-a_x) * (p2_y-a_y) - (p1_y-a_y) * (p2_x-a_x))\n",
        "fS = simplify(tmp)  #目的関数\n",
        "fdS = fS.diff(theta)  #勾配\n",
        "\n",
        "ans =  np.min(abs(np.array(solve(fdS))))  #極値をとる時のtheta\n",
        "print(abs(fS.subs(theta, ans)))"
      ],
      "execution_count": null,
      "outputs": [
        {
          "output_type": "stream",
          "text": [
            "36.3092188706945\n"
          ],
          "name": "stdout"
        }
      ]
    },
    {
      "cell_type": "code",
      "metadata": {
        "colab": {
          "base_uri": "https://localhost:8080/"
        },
        "id": "wqmyIFOEAnKA",
        "outputId": "8953f50d-d66d-48c1-beac-d5e94ac0d54c"
      },
      "source": [
        "import statistics\n",
        "import math\n",
        "\n",
        "l = [0.8527, 0.8554, 0.8642, 0.8607, 0.8424]\n",
        "\n",
        "mean = statistics.mean(l)\n",
        "print(mean)\n",
        "\n",
        "pvariance = statistics.pvariance(l)\n",
        "print(pvariance)"
      ],
      "execution_count": null,
      "outputs": [
        {
          "output_type": "stream",
          "text": [
            "0.8550800000000001\n",
            "5.626159999999973e-05\n"
          ],
          "name": "stdout"
        }
      ]
    },
    {
      "cell_type": "code",
      "metadata": {
        "colab": {
          "base_uri": "https://localhost:8080/"
        },
        "id": "PFjWWzwMD8Oj",
        "outputId": "c0db1dee-e8f1-48d6-b780-6bba0c8c4fba"
      },
      "source": [
        "#SAとSBの要素の和\n",
        "#差の絶対値の最小は0か1\n",
        "\n",
        "a1 = [5,7,11,13,17,19,23,29,31,37,41,43,47,53,59,61,67,71,73,79,83,89,97]\n",
        "b = 2\n",
        "c = 3 \n",
        "\n",
        "for i in range(0, len(a1)):\n",
        "  \n",
        "  x = (a1[i]-1)/2\n",
        "  x = int(x)\n",
        "  y = x + 1\n",
        "\n",
        "  b = b + x\n",
        "  c = c + y \n",
        "  if b == c:\n",
        "    True\n",
        "  else:\n",
        "    b = b - x + y\n",
        "    c = c - y + x\n",
        "\n",
        "#差を表示\n",
        "print(b-c)"
      ],
      "execution_count": null,
      "outputs": [
        {
          "output_type": "stream",
          "text": [
            "0\n"
          ],
          "name": "stdout"
        }
      ]
    },
    {
      "cell_type": "code",
      "metadata": {
        "colab": {
          "base_uri": "https://localhost:8080/"
        },
        "id": "SAEAPLnizF3U",
        "outputId": "6f902c81-d156-4e57-bd3d-5a7ad2412588"
      },
      "source": [
        "a2 = [2,3]\n",
        "a2.extend(a1)\n",
        "\n",
        "a_reverse = a2[::-1]\n",
        "#SAには素数リストの末尾だけ入れておく\n",
        "SA = [a2[-1]]\n",
        "#97が要素として含まれる方を考える。\n",
        "n = b - a_reverse[0]\n",
        "\n",
        "#素数かどうかを判定\n",
        "\n",
        "for i in range(1, len(a2)):\n",
        "  \n",
        "  ele_1 = a_reverse[i]\n",
        "  prime = 0\n",
        "  if n > a2[-1]:\n",
        "    n = n - ele_1 \n",
        "    #素因数分解をして、素数でないなら1を返す\n",
        "    for i in range(2,n):\n",
        "      if n % i == 0:\n",
        "        prime = 1\n",
        "\n",
        "    if prime == 1:\n",
        "      SA.append(ele_1)\n",
        "    else:\n",
        "      #素数なら\n",
        "     n = n + ele_1\n",
        "\n",
        "#nがリストの末尾より小さくなった時\n",
        "for i in range(0, len(a2)):\n",
        "  ele_2= a2[i]\n",
        "  n2 = n - ele_2\n",
        "  if n2 in a2 and n2 not in SA and ele_2 not in SA:\n",
        "    SA.append(n2)\n",
        "    SA.append(ele_2)\n",
        "    break\n",
        "\n",
        "print(\"SA =\",SA)\n",
        "\n",
        "for i in range(0, len(SA)):\n",
        "  if SA[i] in a2:\n",
        "    a2.remove(SA[i])\n",
        "\n",
        "print(\"SB =\", a2)"
      ],
      "execution_count": null,
      "outputs": [
        {
          "output_type": "stream",
          "text": [
            "SA = [97, 89, 83, 79, 71, 67, 41, 3]\n",
            "SB = [2, 5, 7, 11, 13, 17, 19, 23, 29, 31, 37, 43, 47, 53, 59, 61, 73]\n"
          ],
          "name": "stdout"
        }
      ]
    },
    {
      "cell_type": "code",
      "metadata": {
        "id": "OK4o1LunTGh6"
      },
      "source": [
        "  for i in range(2,n2):\n",
        "    if n2 % i == 0:\n",
        "      prime = 1\n",
        "    #素数なら\n",
        "  if prime != 1:\n",
        "    SA.append(n2)\n",
        "    break"
      ],
      "execution_count": null,
      "outputs": []
    },
    {
      "cell_type": "code",
      "metadata": {
        "id": "OJD8HmLbLkTe"
      },
      "source": [
        " if n < b:\n",
        "    for i in range(0, len(a2)):\n",
        "      c = a2[i]\n",
        "      n = n - c\n",
        "      #素数でないなら1を返す\n",
        "      for i in range(2,n):\n",
        "        if n % i == 0:\n",
        "          prime = 1\n",
        "    #素数なら\n",
        "    if prime != 1:\n",
        "      SA.append(b)\n",
        "      print(n)"
      ],
      "execution_count": null,
      "outputs": []
    },
    {
      "cell_type": "code",
      "metadata": {
        "id": "E1D1luf0A239"
      },
      "source": [
        "a2 = [2,3,5,7,11,13,17,19,23,29,31,37,41,43,47,53,59,61,67,71,73,79,83,89,97]"
      ],
      "execution_count": null,
      "outputs": []
    },
    {
      "cell_type": "code",
      "metadata": {
        "colab": {
          "base_uri": "https://localhost:8080/",
          "height": 137
        },
        "id": "b6dymc8XMa0v",
        "outputId": "cb5af996-bfa1-4c2b-db79-7fa32582a3ba"
      },
      "source": [
        "n = 530\n",
        "\n",
        "for i in range \n",
        "for p in range(2, n):\n",
        "    if n % p == 0:\n",
        "        "
      ],
      "execution_count": null,
      "outputs": [
        {
          "output_type": "error",
          "ename": "SyntaxError",
          "evalue": "ignored",
          "traceback": [
            "\u001b[0;36m  File \u001b[0;32m\"<ipython-input-27-e5070dcc9aba>\"\u001b[0;36m, line \u001b[0;32m4\u001b[0m\n\u001b[0;31m    \u001b[0m\n\u001b[0m    ^\u001b[0m\n\u001b[0;31mSyntaxError\u001b[0m\u001b[0;31m:\u001b[0m unexpected EOF while parsing\n"
          ]
        }
      ]
    },
    {
      "cell_type": "code",
      "metadata": {
        "id": "K3fOpiPSExyV"
      },
      "source": [
        "a = [5,7,11]"
      ],
      "execution_count": null,
      "outputs": []
    },
    {
      "cell_type": "code",
      "metadata": {
        "colab": {
          "base_uri": "https://localhost:8080/"
        },
        "id": "8CJ8rM0aE2Ga",
        "outputId": "518730e7-1a81-4cfb-a8d3-03dc2660b319"
      },
      "source": [
        "(a[0]-1)/2"
      ],
      "execution_count": null,
      "outputs": [
        {
          "output_type": "execute_result",
          "data": {
            "text/plain": [
              "2.0"
            ]
          },
          "metadata": {
            "tags": []
          },
          "execution_count": 5
        }
      ]
    },
    {
      "cell_type": "code",
      "metadata": {
        "colab": {
          "base_uri": "https://localhost:8080/"
        },
        "id": "3-ghf1arE4gf",
        "outputId": "404b5470-dccd-4627-b99e-7e4483b57aab"
      },
      "source": [
        "for i in range(0, 3):\n",
        "  print(a[i])\n"
      ],
      "execution_count": null,
      "outputs": [
        {
          "output_type": "stream",
          "text": [
            "5\n",
            "7\n",
            "11\n"
          ],
          "name": "stdout"
        }
      ]
    },
    {
      "cell_type": "code",
      "metadata": {
        "id": "CDoOWj37F_ST"
      },
      "source": [
        ""
      ],
      "execution_count": null,
      "outputs": []
    }
  ]
}